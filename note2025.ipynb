{
  "nbformat": 4,
  "nbformat_minor": 0,
  "metadata": {
    "colab": {
      "provenance": []
    },
    "kernelspec": {
      "name": "python3",
      "display_name": "Python 3"
    },
    "language_info": {
      "name": "python"
    }
  },
  "cells": [
    {
      "cell_type": "markdown",
      "source": [
        "運算子"
      ],
      "metadata": {
        "id": "twzK2iQETSDW"
      }
    },
    {
      "cell_type": "code",
      "execution_count": null,
      "metadata": {
        "id": "W3eyEmMNO9s3"
      },
      "outputs": [],
      "source": [
        "/ #除\n",
        "// #整除\n",
        "% #取餘數\n",
        "* #乘\n",
        "** #次方\n",
        "end=\"\" #不換行\n",
        "(f\"{aa:.3f}\") #取到小數點後第3位，aa=變數\n",
        "end=\"\\t\" #表示在每個數字後面加上一個 tab 字元，以便將數字分隔開。\n",
        "\n",
        "import math #import數學公式"
      ]
    },
    {
      "cell_type": "code",
      "source": [
        "a, b=map(int,input().split())"
      ],
      "metadata": {
        "id": "NphPGR-ZjGbY"
      },
      "execution_count": null,
      "outputs": []
    },
    {
      "cell_type": "code",
      "source": [
        "#將輸入字串反向輸出\n",
        "a=input()\n",
        "ra = a[::-1]\n",
        "print(ra)"
      ],
      "metadata": {
        "id": "YxAXSBnSS7Dr",
        "colab": {
          "base_uri": "https://localhost:8080/"
        },
        "outputId": "f7c0c4ce-4fde-41d5-d3bb-d7dbc985084e"
      },
      "execution_count": null,
      "outputs": [
        {
          "output_type": "stream",
          "name": "stdout",
          "text": [
            "1357\n",
            "7531\n"
          ]
        }
      ]
    },
    {
      "cell_type": "code",
      "source": [
        "w, h = map(int, input().split()): #這一行程式碼會讀取使用者輸入的一行文字，將其按空格分割成兩個字串，然後使用 map 函數將這兩個字串轉換為整數，最後分別賦值給變數 w 和 h。"
      ],
      "metadata": {
        "id": "QgahNMR3i6-3"
      },
      "execution_count": null,
      "outputs": []
    }
  ]
}