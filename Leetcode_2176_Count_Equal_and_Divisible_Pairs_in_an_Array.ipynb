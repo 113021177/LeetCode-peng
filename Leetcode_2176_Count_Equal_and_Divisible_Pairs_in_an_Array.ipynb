{
  "nbformat": 4,
  "nbformat_minor": 0,
  "metadata": {
    "colab": {
      "provenance": []
    },
    "kernelspec": {
      "name": "python3",
      "display_name": "Python 3"
    },
    "language_info": {
      "name": "python"
    }
  },
  "cells": [
    {
      "cell_type": "markdown",
      "source": [
        "Input: nums = [3,1,2,2,2,1,3], k = 2\n",
        "Output: 4\n",
        "Explanation:\n",
        "There are 4 pairs that meet all the requirements:\n",
        "- nums[0] == nums[6], and 0 * 6 == 0, which is divisible by 2.\n",
        "- nums[2] == nums[3], and 2 * 3 == 6, which is divisible by 2.\n",
        "- nums[2] == nums[4], and 2 * 4 == 8, which is divisible by 2.\n",
        "- nums[3] == nums[4], and 3 * 4 == 12, which is divisible by 2."
      ],
      "metadata": {
        "id": "CGbi7HLzClRv"
      }
    },
    {
      "cell_type": "code",
      "execution_count": 10,
      "metadata": {
        "colab": {
          "base_uri": "https://localhost:8080/"
        },
        "id": "bfAqXEeZAYmE",
        "outputId": "667944c2-8dc9-4dc8-9813-26a41a908ab3"
      },
      "outputs": [
        {
          "output_type": "stream",
          "name": "stdout",
          "text": [
            "4\n"
          ]
        }
      ],
      "source": [
        "nums = [3,1,2,2,2,1,3]\n",
        "k = 2\n",
        "n = len(nums)\n",
        "count = 0\n",
        "for i in range(n):\n",
        "    for j in range(i + 1, n):\n",
        "        if nums[i] == nums[j] and (i * j) % k == 0:\n",
        "            count += 1\n",
        "print (count)"
      ]
    }
  ]
}